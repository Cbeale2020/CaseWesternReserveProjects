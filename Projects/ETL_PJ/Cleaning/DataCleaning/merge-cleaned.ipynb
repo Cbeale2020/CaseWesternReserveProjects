{
 "cells": [
  {
   "cell_type": "code",
   "execution_count": 1,
   "metadata": {},
   "outputs": [],
   "source": [
    "import matplotlib.pyplot as plt\n",
    "import pandas as pd\n",
    "import numpy as np\n",
    "import os\n",
    "from scipy.stats import linregress\n",
    "import datetime"
   ]
  },
  {
   "cell_type": "code",
   "execution_count": 2,
   "metadata": {},
   "outputs": [],
   "source": [
    "#Reading in Movies CSV files\n",
    "movies_meta_path = \"../ImportData/movies_metadata.csv\"\n",
    "movies_meta_df = pd.read_csv(movies_meta_path)\n",
    "\n",
    "movies_updated_path= \"../ImportData/MoviesOnStreamingPlatforms_updated.csv\"\n",
    "movies_streaming_df = pd.read_csv(movies_updated_path)"
   ]
  },
  {
   "cell_type": "code",
   "execution_count": 3,
   "metadata": {},
   "outputs": [],
   "source": [
    "#Convert the release_date to datetime so we can use the datetime import\n",
    "movies_meta_df['release_date'] = pd.to_datetime(movies_meta_df['release_date'])"
   ]
  },
  {
   "cell_type": "code",
   "execution_count": 4,
   "metadata": {},
   "outputs": [
    {
     "output_type": "execute_result",
     "data": {
      "text/plain": [
       "id                              object\n",
       "production_countries            object\n",
       "release_date            datetime64[ns]\n",
       "revenue                        float64\n",
       "runtime                        float64\n",
       "spoken_languages                object\n",
       "status                          object\n",
       "tagline                         object\n",
       "title                           object\n",
       "video                           object\n",
       "vote_average                   float64\n",
       "vote_count                     float64\n",
       "dtype: object"
      ]
     },
     "metadata": {},
     "execution_count": 4
    }
   ],
   "source": [
    "movies_meta_df.dtypes"
   ]
  },
  {
   "cell_type": "code",
   "execution_count": 5,
   "metadata": {},
   "outputs": [
    {
     "output_type": "execute_result",
     "data": {
      "text/plain": [
       "      id  runtime                        Title  vote_average  vote_count  Year\n",
       "0    862     81.0                    Toy Story           7.7      5415.0  1995\n",
       "1   8844    104.0                      Jumanji           6.9      2413.0  1995\n",
       "2  15602    101.0             Grumpier Old Men           6.5        92.0  1995\n",
       "3  31357    127.0            Waiting to Exhale           6.1        34.0  1995\n",
       "4  11862    106.0  Father of the Bride Part II           5.7       173.0  1995"
      ],
      "text/html": "<div>\n<style scoped>\n    .dataframe tbody tr th:only-of-type {\n        vertical-align: middle;\n    }\n\n    .dataframe tbody tr th {\n        vertical-align: top;\n    }\n\n    .dataframe thead th {\n        text-align: right;\n    }\n</style>\n<table border=\"1\" class=\"dataframe\">\n  <thead>\n    <tr style=\"text-align: right;\">\n      <th></th>\n      <th>id</th>\n      <th>runtime</th>\n      <th>Title</th>\n      <th>vote_average</th>\n      <th>vote_count</th>\n      <th>Year</th>\n    </tr>\n  </thead>\n  <tbody>\n    <tr>\n      <th>0</th>\n      <td>862</td>\n      <td>81.0</td>\n      <td>Toy Story</td>\n      <td>7.7</td>\n      <td>5415.0</td>\n      <td>1995</td>\n    </tr>\n    <tr>\n      <th>1</th>\n      <td>8844</td>\n      <td>104.0</td>\n      <td>Jumanji</td>\n      <td>6.9</td>\n      <td>2413.0</td>\n      <td>1995</td>\n    </tr>\n    <tr>\n      <th>2</th>\n      <td>15602</td>\n      <td>101.0</td>\n      <td>Grumpier Old Men</td>\n      <td>6.5</td>\n      <td>92.0</td>\n      <td>1995</td>\n    </tr>\n    <tr>\n      <th>3</th>\n      <td>31357</td>\n      <td>127.0</td>\n      <td>Waiting to Exhale</td>\n      <td>6.1</td>\n      <td>34.0</td>\n      <td>1995</td>\n    </tr>\n    <tr>\n      <th>4</th>\n      <td>11862</td>\n      <td>106.0</td>\n      <td>Father of the Bride Part II</td>\n      <td>5.7</td>\n      <td>173.0</td>\n      <td>1995</td>\n    </tr>\n  </tbody>\n</table>\n</div>"
     },
     "metadata": {},
     "execution_count": 5
    }
   ],
   "source": [
    "#Extracting the year from the release_date\n",
    "movies_meta_df['Year'] = movies_meta_df['release_date'].dt.strftime('%Y')\n",
    "\n",
    "#Droping unecessary columns from movies_meta_df\n",
    "movies_meta_df = movies_meta_df.drop(columns = ['production_countries', 'release_date', 'revenue', 'spoken_languages', 'status', 'tagline', 'video'])\n",
    "\n",
    "movies_meta_df = movies_meta_df.rename(columns={'title': 'Title'})\n",
    "\n",
    "#Examining the movies_meta_df\n",
    "movies_meta_df.head()"
   ]
  },
  {
   "cell_type": "code",
   "execution_count": 6,
   "metadata": {},
   "outputs": [],
   "source": [
    "# Drop Movies that do not have a year entry in meta_df\n",
    "movies_meta_df.dropna(subset = [\"Year\"], inplace=True)"
   ]
  },
  {
   "cell_type": "code",
   "execution_count": 7,
   "metadata": {},
   "outputs": [],
   "source": [
    "#Droping unecessary columns from movies_streaming_df\n",
    "movies_streaming_df = movies_streaming_df.drop(columns = ['Unnamed: 0', 'Type', 'Directors', 'Country', 'Language', 'Runtime'])"
   ]
  },
  {
   "cell_type": "code",
   "execution_count": 8,
   "metadata": {},
   "outputs": [
    {
     "output_type": "execute_result",
     "data": {
      "text/plain": [
       "id               object\n",
       "runtime         float64\n",
       "Title            object\n",
       "vote_average    float64\n",
       "vote_count      float64\n",
       "Year             object\n",
       "dtype: object"
      ]
     },
     "metadata": {},
     "execution_count": 8
    }
   ],
   "source": [
    "movies_meta_df.dtypes"
   ]
  },
  {
   "cell_type": "code",
   "execution_count": 9,
   "metadata": {},
   "outputs": [
    {
     "output_type": "execute_result",
     "data": {
      "text/plain": [
       "ID                   int64\n",
       "Title               object\n",
       "Year                 int64\n",
       "Age                 object\n",
       "IMDb               float64\n",
       "Rotten Tomatoes     object\n",
       "Netflix              int64\n",
       "Hulu                 int64\n",
       "Prime Video          int64\n",
       "Disney+              int64\n",
       "Genres              object\n",
       "dtype: object"
      ]
     },
     "metadata": {},
     "execution_count": 9
    }
   ],
   "source": [
    "movies_streaming_df.dtypes"
   ]
  },
  {
   "cell_type": "code",
   "execution_count": 10,
   "metadata": {},
   "outputs": [],
   "source": [
    "#Converting the Year column to integer type\n",
    "movies_meta_df['Year'] = movies_meta_df.Year.astype(int)"
   ]
  },
  {
   "cell_type": "code",
   "execution_count": 11,
   "metadata": {},
   "outputs": [],
   "source": [
    "#Combining the 2 data sets\n",
    "movies_merged_df = pd.merge(movies_streaming_df, movies_meta_df,  how='left', left_on=['Title','Year'], right_on = ['Title','Year'])"
   ]
  },
  {
   "cell_type": "code",
   "execution_count": 12,
   "metadata": {},
   "outputs": [],
   "source": [
    "movies_merged_df.to_csv(\"movies_merged_df.csv\")"
   ]
  },
  {
   "cell_type": "code",
   "execution_count": null,
   "metadata": {},
   "outputs": [],
   "source": []
  }
 ],
 "metadata": {
  "kernelspec": {
   "display_name": "Python 3",
   "language": "python",
   "name": "python3"
  },
  "language_info": {
   "codemirror_mode": {
    "name": "ipython",
    "version": 3
   },
   "file_extension": ".py",
   "mimetype": "text/x-python",
   "name": "python",
   "nbconvert_exporter": "python",
   "pygments_lexer": "ipython3",
   "version": "3.7.6-final"
  }
 },
 "nbformat": 4,
 "nbformat_minor": 4
}