{
 "cells": [
  {
   "cell_type": "code",
   "execution_count": 2,
   "metadata": {},
   "outputs": [],
   "source": [
    "from splinter import Browser\n",
    "from bs4 import BeautifulSoup\n",
    "import pandas as pd"
   ]
  },
  {
   "cell_type": "markdown",
   "metadata": {},
   "source": [
    "# Mac Users"
   ]
  },
  {
   "cell_type": "code",
   "execution_count": 3,
   "metadata": {},
   "outputs": [],
   "source": [
    "# https://splinter.readthedocs.io/en/latest/drivers/chrome.html\n",
    "#!which chromedriver"
   ]
  },
  {
   "cell_type": "code",
   "execution_count": 4,
   "metadata": {},
   "outputs": [],
   "source": [
    "#executable_path = {'executable_path': '/usr/local/bin/chromedriver'}\n",
    "#browser = Browser('chrome', **executable_path, headless=False)"
   ]
  },
  {
   "cell_type": "markdown",
   "metadata": {},
   "source": [
    "# Windows Users"
   ]
  },
  {
   "cell_type": "code",
   "execution_count": 5,
   "metadata": {},
   "outputs": [],
   "source": [
    "executable_path = {'executable_path': 'chromedriver.exe'}\n",
    "browser = Browser('chrome', **executable_path, headless=False)"
   ]
  },
  {
   "cell_type": "code",
   "execution_count": 6,
   "metadata": {},
   "outputs": [],
   "source": [
    "url = 'https://mars.nasa.gov/news/'\n",
    "browser.visit(url)"
   ]
  },
  {
   "cell_type": "code",
   "execution_count": 7,
   "metadata": {},
   "outputs": [
    {
     "output_type": "stream",
     "name": "stdout",
     "text": [
      "None\n<a href=\"/news/8778/nasas-perseverance-rover-bringing-3d-printed-metal-parts-to-mars/\" target=\"_self\">NASA's Perseverance Rover Bringing 3D-Printed Metal Parts to Mars</a>\n<a href=\"/news/8776/nasa-insights-mole-is-out-of-sight/\" target=\"_self\">NASA InSight's 'Mole' Is Out of Sight</a>\n<a href=\"/news/8770/nasas-perseverance-rover-will-peer-beneath-mars-surface/\" target=\"_self\">NASA's Perseverance Rover Will Peer Beneath Mars' Surface </a>\n<a href=\"/news/8765/ai-is-helping-scientists-discover-fresh-craters-on-mars/\" target=\"_self\">AI Is Helping Scientists Discover Fresh Craters on Mars</a>\n<a href=\"/news/8762/nasas-new-mars-rover-is-ready-for-space-lasers/\" target=\"_self\">NASA's New Mars Rover Is Ready for Space Lasers</a>\n<a href=\"/news/8759/nasas-new-mars-rover-will-use-x-rays-to-hunt-fossils/\" target=\"_self\">NASA's New Mars Rover Will Use X-Rays to Hunt Fossils</a>\n<a href=\"/news/8756/my-culture-my-voice/\" target=\"_self\">My Culture, My Voice</a>\n<a href=\"/news/8749/nasa-readies-perseverance-mars-rovers-earthly-twin/\" target=\"_self\">NASA Readies Perseverance Mars Rover's Earthly Twin </a>\n<a href=\"/news/8744/nasa-engineers-checking-insights-weather-sensors/\" target=\"_self\">NASA Engineers Checking InSight's Weather Sensors</a>\n<a href=\"/news/8742/follow-nasas-perseverance-rover-in-real-time-on-its-way-to-mars/\" target=\"_self\">Follow NASA's Perseverance Rover in Real Time on Its Way to Mars</a>\n<a href=\"/news/8737/nasa-establishes-board-to-initially-review-mars-sample-return-plans/\" target=\"_self\">NASA Establishes Board to Initially Review Mars Sample Return Plans</a>\n<a href=\"/news/8736/nasas-ingenuity-mars-helicopter-recharges-its-batteries-in-flight/\" target=\"_self\">NASA's Ingenuity Mars Helicopter Recharges Its Batteries in Flight</a>\n<a href=\"/news/8735/celebrate-mars-reconnaissance-orbiters-views-from-above/\" target=\"_self\">Celebrate Mars Reconnaissance Orbiter's Views From Above</a>\n<a href=\"/news/8731/nasas-maven-observes-martian-night-sky-pulsing-in-ultraviolet-light/\" target=\"_self\">NASA's MAVEN Observes Martian Night Sky Pulsing in Ultraviolet Light</a>\n<a href=\"/news/8726/8-martian-postcards-to-celebrate-curiositys-landing-anniversary/\" target=\"_self\">8 Martian Postcards to Celebrate Curiosity's Landing Anniversary</a>\n<a href=\"/news/8724/nasa-ula-launch-mars-2020-perseverance-rover-mission-to-red-planet/\" target=\"_self\">NASA, ULA Launch Mars 2020 Perseverance Rover Mission to Red Planet</a>\n<a href=\"/news/8723/nasas-perseverance-rover-will-carry-first-spacesuit-materials-to-mars/\" target=\"_self\">NASA's Perseverance Rover Will Carry First Spacesuit Materials to Mars</a>\n<a href=\"/news/8721/a-new-video-captures-the-science-of-nasas-perseverance-mars-rover/\" target=\"_self\">A New Video Captures the Science of NASA's Perseverance Mars Rover</a>\n<a href=\"/news/8719/nasa-invites-public-to-share-excitement-of-mars-2020-perseverance-rover-launch/\" target=\"_self\">NASA Invites Public to Share Excitement of Mars 2020 Perseverance Rover Launch</a>\n<a href=\"/news/8718/nasas-mars-perseverance-rover-passes-flight-readiness-review/\" target=\"_self\">NASA's Mars Perseverance Rover Passes Flight Readiness Review</a>\n<a href=\"/news/8716/nasa-to-broadcast-mars-2020-perseverance-launch-prelaunch-activities/\" target=\"_self\">NASA to Broadcast Mars 2020 Perseverance Launch, Prelaunch Activities</a>\n<a href=\"/news/8712/6-things-to-know-about-nasas-ingenuity-mars-helicopter/\" target=\"_self\">6 Things to Know About NASA's Ingenuity Mars Helicopter</a>\n<a href=\"/news/8710/join-nasa-for-the-launch-of-the-mars-2020-perseverance-rover/\" target=\"_self\">Join NASA for the Launch of the Mars 2020 Perseverance Rover</a>\n<a href=\"/news/8709/nasas-perseverance-rover-attached-to-atlas-v-rocket/\" target=\"_self\">NASA's Perseverance Rover Attached to Atlas V Rocket</a>\n<a href=\"/news/8707/7-things-to-know-about-the-mars-2020-perseverance-rover-mission/\" target=\"_self\">7 Things to Know About the Mars 2020 Perseverance Rover Mission</a>\n<a href=\"/news/8705/nasas-insight-flexes-its-arm-while-its-mole-hits-pause/\" target=\"_self\">NASA's InSight Flexes Its Arm While Its 'Mole' Hits Pause</a>\n<a href=\"/news/8704/curiosity-mars-rovers-summer-road-trip-has-begun/\" target=\"_self\">Curiosity Mars Rover's Summer Road Trip Has Begun</a>\n<a href=\"/news/8699/how-nasas-mars-helicopter-will-reach-the-red-planets-surface/\" target=\"_self\">How NASA's Mars Helicopter Will Reach the Red Planet's Surface</a>\n<a href=\"/news/8695/the-launch-is-approaching-for-nasas-next-mars-rover-perseverance/\" target=\"_self\">The Launch Is Approaching for NASA's Next Mars Rover, Perseverance</a>\n<a href=\"/news/8692/nasa-to-hold-mars-2020-perseverance-rover-launch-briefing/\" target=\"_self\">NASA to Hold Mars 2020 Perseverance Rover Launch Briefing</a>\n<a href=\"/news/8691/while-stargazing-on-mars-nasas-curiosity-rover-spots-earth-and-venus/\" target=\"_self\">While Stargazing on Mars, NASA's Curiosity Rover Spots Earth and Venus</a>\n<a href=\"/news/8689/nasas-mars-rover-drivers-need-your-help/\" target=\"_self\">NASA's Mars Rover Drivers Need Your Help</a>\n<a href=\"/news/8687/three-new-views-of-mars-moon-phobos/\" target=\"_self\">Three New Views of Mars' Moon Phobos</a>\n<a href=\"/news/8682/the-extraordinary-sample-gathering-system-of-nasas-perseverance-mars-rover/\" target=\"_self\">The Extraordinary Sample-Gathering System of NASA's Perseverance Mars Rover</a>\n<a href=\"/news/8678/the-detective-aboard-nasas-perseverance-rover/\" target=\"_self\">The Detective Aboard NASA's Perseverance Rover</a>\n<a href=\"/news/8680/maven-maps-electric-currents-around-mars-that-are-fundamental-to-atmospheric-loss/\" target=\"_self\">MAVEN Maps Electric Currents around Mars that are Fundamental to Atmospheric Loss</a>\n<a href=\"/news/8677/air-deliveries-bring-nasas-perseverance-mars-rover-closer-to-launch/\" target=\"_self\">Air Deliveries Bring NASA's Perseverance Mars Rover Closer to Launch</a>\n<a href=\"/news/8675/nasa-wins-4-webbys-4-peoples-voice-awards/\" target=\"_self\">NASA Wins 4 Webbys, 4 People's Voice Awards</a>\n<a href=\"/news/8671/nasas-perseverance-rover-goes-through-trials-by-fire-ice-light-and-sound/\" target=\"_self\">NASA's Perseverance Rover Goes Through Trials by Fire, Ice, Light and Sound</a>\n<a href=\"/news/8657/nasas-perseverance-rover-mission-getting-in-shape-for-launch/\" target=\"_self\">NASA's Perseverance Rover Mission Getting in Shape for Launch</a>\n<a href=\"/news/8659/alabama-high-school-student-names-nasas-mars-helicopter/\">\nAlabama High School Student Names NASA's Mars Helicopter\n</a>\n<a href=\"/news/8645/mars-helicopter-attached-to-nasas-perseverance-rover/\">\nMars Helicopter Attached to NASA's Perseverance Rover\n</a>\n<a href=\"/news/8641/nasas-perseverance-mars-rover-gets-its-wheels-and-air-brakes/\">\nNASA's Perseverance Mars Rover Gets Its Wheels and Air Brakes\n</a>\n<a href=\"/news/8716/nasa-to-broadcast-mars-2020-perseverance-launch-prelaunch-activities/\">\nNASA to Broadcast Mars 2020 Perseverance Launch, Prelaunch Activities\n</a>\n<a href=\"/news/8695/the-launch-is-approaching-for-nasas-next-mars-rover-perseverance/\">\nThe Launch Is Approaching for NASA's Next Mars Rover, Perseverance\n</a>\n<a href=\"/news/8692/nasa-to-hold-mars-2020-perseverance-rover-launch-briefing/\">\nNASA to Hold Mars 2020 Perseverance Rover Launch Briefing\n</a>\n<a href=\"/news/8659/alabama-high-school-student-names-nasas-mars-helicopter/\">\nAlabama High School Student Names NASA's Mars Helicopter\n</a>\n<a href=\"/news/8645/mars-helicopter-attached-to-nasas-perseverance-rover/\">\nMars Helicopter Attached to NASA's Perseverance Rover\n</a>\n<a href=\"/news/8641/nasas-perseverance-mars-rover-gets-its-wheels-and-air-brakes/\">\nNASA's Perseverance Mars Rover Gets Its Wheels and Air Brakes\n</a>\n<a href=\"/news/8716/nasa-to-broadcast-mars-2020-perseverance-launch-prelaunch-activities/\">\nNASA to Broadcast Mars 2020 Perseverance Launch, Prelaunch Activities\n</a>\n<a href=\"/news/8695/the-launch-is-approaching-for-nasas-next-mars-rover-perseverance/\">\nThe Launch Is Approaching for NASA's Next Mars Rover, Perseverance\n</a>\n<a href=\"/news/8692/nasa-to-hold-mars-2020-perseverance-rover-launch-briefing/\">\nNASA to Hold Mars 2020 Perseverance Rover Launch Briefing\n</a>\n"
     ]
    },
    {
     "output_type": "error",
     "ename": "ElementNotInteractableException",
     "evalue": "Message: element not interactable: element has zero size\n  (Session info: chrome=86.0.4240.75)\n",
     "traceback": [
      "\u001b[1;31m---------------------------------------------------------------------------\u001b[0m",
      "\u001b[1;31mElementNotInteractableException\u001b[0m           Traceback (most recent call last)",
      "\u001b[1;32m<ipython-input-7-3781894ea659>\u001b[0m in \u001b[0;36m<module>\u001b[1;34m\u001b[0m\n\u001b[0;32m     11\u001b[0m \u001b[1;33m\u001b[0m\u001b[0m\n\u001b[0;32m     12\u001b[0m \u001b[1;33m\u001b[0m\u001b[0m\n\u001b[1;32m---> 13\u001b[1;33m     \u001b[0mbrowser\u001b[0m\u001b[1;33m.\u001b[0m\u001b[0mlinks\u001b[0m\u001b[1;33m.\u001b[0m\u001b[0mfind_by_partial_text\u001b[0m\u001b[1;33m(\u001b[0m\u001b[1;34m'Next'\u001b[0m\u001b[1;33m)\u001b[0m\u001b[1;33m.\u001b[0m\u001b[0mclick\u001b[0m\u001b[1;33m(\u001b[0m\u001b[1;33m)\u001b[0m\u001b[1;33m\u001b[0m\u001b[1;33m\u001b[0m\u001b[0m\n\u001b[0m",
      "\u001b[1;32m~\\anaconda3\\envs\\PythonData\\lib\\site-packages\\splinter\\driver\\webdriver\\__init__.py\u001b[0m in \u001b[0;36mclick\u001b[1;34m(self)\u001b[0m\n\u001b[0;32m    786\u001b[0m                 \u001b[0merror\u001b[0m \u001b[1;33m=\u001b[0m \u001b[0me\u001b[0m\u001b[1;33m\u001b[0m\u001b[1;33m\u001b[0m\u001b[0m\n\u001b[0;32m    787\u001b[0m \u001b[1;33m\u001b[0m\u001b[0m\n\u001b[1;32m--> 788\u001b[1;33m         \u001b[1;32mraise\u001b[0m \u001b[0merror\u001b[0m\u001b[1;33m\u001b[0m\u001b[1;33m\u001b[0m\u001b[0m\n\u001b[0m\u001b[0;32m    789\u001b[0m \u001b[1;33m\u001b[0m\u001b[0m\n\u001b[0;32m    790\u001b[0m     \u001b[1;32mdef\u001b[0m \u001b[0mcheck\u001b[0m\u001b[1;33m(\u001b[0m\u001b[0mself\u001b[0m\u001b[1;33m)\u001b[0m\u001b[1;33m:\u001b[0m\u001b[1;33m\u001b[0m\u001b[1;33m\u001b[0m\u001b[0m\n",
      "\u001b[1;32m~\\anaconda3\\envs\\PythonData\\lib\\site-packages\\splinter\\driver\\webdriver\\__init__.py\u001b[0m in \u001b[0;36mclick\u001b[1;34m(self)\u001b[0m\n\u001b[0;32m    779\u001b[0m         \u001b[1;32mwhile\u001b[0m \u001b[0mtime\u001b[0m\u001b[1;33m.\u001b[0m\u001b[0mtime\u001b[0m\u001b[1;33m(\u001b[0m\u001b[1;33m)\u001b[0m \u001b[1;33m<\u001b[0m \u001b[0mend_time\u001b[0m\u001b[1;33m:\u001b[0m\u001b[1;33m\u001b[0m\u001b[1;33m\u001b[0m\u001b[0m\n\u001b[0;32m    780\u001b[0m             \u001b[1;32mtry\u001b[0m\u001b[1;33m:\u001b[0m\u001b[1;33m\u001b[0m\u001b[1;33m\u001b[0m\u001b[0m\n\u001b[1;32m--> 781\u001b[1;33m                 \u001b[1;32mreturn\u001b[0m \u001b[0mself\u001b[0m\u001b[1;33m.\u001b[0m\u001b[0m_element\u001b[0m\u001b[1;33m.\u001b[0m\u001b[0mclick\u001b[0m\u001b[1;33m(\u001b[0m\u001b[1;33m)\u001b[0m\u001b[1;33m\u001b[0m\u001b[1;33m\u001b[0m\u001b[0m\n\u001b[0m\u001b[0;32m    782\u001b[0m             except(\n\u001b[0;32m    783\u001b[0m                 \u001b[0mElementClickInterceptedException\u001b[0m\u001b[1;33m,\u001b[0m\u001b[1;33m\u001b[0m\u001b[1;33m\u001b[0m\u001b[0m\n",
      "\u001b[1;32m~\\anaconda3\\envs\\PythonData\\lib\\site-packages\\selenium\\webdriver\\remote\\webelement.py\u001b[0m in \u001b[0;36mclick\u001b[1;34m(self)\u001b[0m\n\u001b[0;32m     78\u001b[0m     \u001b[1;32mdef\u001b[0m \u001b[0mclick\u001b[0m\u001b[1;33m(\u001b[0m\u001b[0mself\u001b[0m\u001b[1;33m)\u001b[0m\u001b[1;33m:\u001b[0m\u001b[1;33m\u001b[0m\u001b[1;33m\u001b[0m\u001b[0m\n\u001b[0;32m     79\u001b[0m         \u001b[1;34m\"\"\"Clicks the element.\"\"\"\u001b[0m\u001b[1;33m\u001b[0m\u001b[1;33m\u001b[0m\u001b[0m\n\u001b[1;32m---> 80\u001b[1;33m         \u001b[0mself\u001b[0m\u001b[1;33m.\u001b[0m\u001b[0m_execute\u001b[0m\u001b[1;33m(\u001b[0m\u001b[0mCommand\u001b[0m\u001b[1;33m.\u001b[0m\u001b[0mCLICK_ELEMENT\u001b[0m\u001b[1;33m)\u001b[0m\u001b[1;33m\u001b[0m\u001b[1;33m\u001b[0m\u001b[0m\n\u001b[0m\u001b[0;32m     81\u001b[0m \u001b[1;33m\u001b[0m\u001b[0m\n\u001b[0;32m     82\u001b[0m     \u001b[1;32mdef\u001b[0m \u001b[0msubmit\u001b[0m\u001b[1;33m(\u001b[0m\u001b[0mself\u001b[0m\u001b[1;33m)\u001b[0m\u001b[1;33m:\u001b[0m\u001b[1;33m\u001b[0m\u001b[1;33m\u001b[0m\u001b[0m\n",
      "\u001b[1;32m~\\anaconda3\\envs\\PythonData\\lib\\site-packages\\selenium\\webdriver\\remote\\webelement.py\u001b[0m in \u001b[0;36m_execute\u001b[1;34m(self, command, params)\u001b[0m\n\u001b[0;32m    631\u001b[0m             \u001b[0mparams\u001b[0m \u001b[1;33m=\u001b[0m \u001b[1;33m{\u001b[0m\u001b[1;33m}\u001b[0m\u001b[1;33m\u001b[0m\u001b[1;33m\u001b[0m\u001b[0m\n\u001b[0;32m    632\u001b[0m         \u001b[0mparams\u001b[0m\u001b[1;33m[\u001b[0m\u001b[1;34m'id'\u001b[0m\u001b[1;33m]\u001b[0m \u001b[1;33m=\u001b[0m \u001b[0mself\u001b[0m\u001b[1;33m.\u001b[0m\u001b[0m_id\u001b[0m\u001b[1;33m\u001b[0m\u001b[1;33m\u001b[0m\u001b[0m\n\u001b[1;32m--> 633\u001b[1;33m         \u001b[1;32mreturn\u001b[0m \u001b[0mself\u001b[0m\u001b[1;33m.\u001b[0m\u001b[0m_parent\u001b[0m\u001b[1;33m.\u001b[0m\u001b[0mexecute\u001b[0m\u001b[1;33m(\u001b[0m\u001b[0mcommand\u001b[0m\u001b[1;33m,\u001b[0m \u001b[0mparams\u001b[0m\u001b[1;33m)\u001b[0m\u001b[1;33m\u001b[0m\u001b[1;33m\u001b[0m\u001b[0m\n\u001b[0m\u001b[0;32m    634\u001b[0m \u001b[1;33m\u001b[0m\u001b[0m\n\u001b[0;32m    635\u001b[0m     \u001b[1;32mdef\u001b[0m \u001b[0mfind_element\u001b[0m\u001b[1;33m(\u001b[0m\u001b[0mself\u001b[0m\u001b[1;33m,\u001b[0m \u001b[0mby\u001b[0m\u001b[1;33m=\u001b[0m\u001b[0mBy\u001b[0m\u001b[1;33m.\u001b[0m\u001b[0mID\u001b[0m\u001b[1;33m,\u001b[0m \u001b[0mvalue\u001b[0m\u001b[1;33m=\u001b[0m\u001b[1;32mNone\u001b[0m\u001b[1;33m)\u001b[0m\u001b[1;33m:\u001b[0m\u001b[1;33m\u001b[0m\u001b[1;33m\u001b[0m\u001b[0m\n",
      "\u001b[1;32m~\\anaconda3\\envs\\PythonData\\lib\\site-packages\\selenium\\webdriver\\remote\\webdriver.py\u001b[0m in \u001b[0;36mexecute\u001b[1;34m(self, driver_command, params)\u001b[0m\n\u001b[0;32m    319\u001b[0m         \u001b[0mresponse\u001b[0m \u001b[1;33m=\u001b[0m \u001b[0mself\u001b[0m\u001b[1;33m.\u001b[0m\u001b[0mcommand_executor\u001b[0m\u001b[1;33m.\u001b[0m\u001b[0mexecute\u001b[0m\u001b[1;33m(\u001b[0m\u001b[0mdriver_command\u001b[0m\u001b[1;33m,\u001b[0m \u001b[0mparams\u001b[0m\u001b[1;33m)\u001b[0m\u001b[1;33m\u001b[0m\u001b[1;33m\u001b[0m\u001b[0m\n\u001b[0;32m    320\u001b[0m         \u001b[1;32mif\u001b[0m \u001b[0mresponse\u001b[0m\u001b[1;33m:\u001b[0m\u001b[1;33m\u001b[0m\u001b[1;33m\u001b[0m\u001b[0m\n\u001b[1;32m--> 321\u001b[1;33m             \u001b[0mself\u001b[0m\u001b[1;33m.\u001b[0m\u001b[0merror_handler\u001b[0m\u001b[1;33m.\u001b[0m\u001b[0mcheck_response\u001b[0m\u001b[1;33m(\u001b[0m\u001b[0mresponse\u001b[0m\u001b[1;33m)\u001b[0m\u001b[1;33m\u001b[0m\u001b[1;33m\u001b[0m\u001b[0m\n\u001b[0m\u001b[0;32m    322\u001b[0m             response['value'] = self._unwrap_value(\n\u001b[0;32m    323\u001b[0m                 response.get('value', None))\n",
      "\u001b[1;32m~\\anaconda3\\envs\\PythonData\\lib\\site-packages\\selenium\\webdriver\\remote\\errorhandler.py\u001b[0m in \u001b[0;36mcheck_response\u001b[1;34m(self, response)\u001b[0m\n\u001b[0;32m    240\u001b[0m                 \u001b[0malert_text\u001b[0m \u001b[1;33m=\u001b[0m \u001b[0mvalue\u001b[0m\u001b[1;33m[\u001b[0m\u001b[1;34m'alert'\u001b[0m\u001b[1;33m]\u001b[0m\u001b[1;33m.\u001b[0m\u001b[0mget\u001b[0m\u001b[1;33m(\u001b[0m\u001b[1;34m'text'\u001b[0m\u001b[1;33m)\u001b[0m\u001b[1;33m\u001b[0m\u001b[1;33m\u001b[0m\u001b[0m\n\u001b[0;32m    241\u001b[0m             \u001b[1;32mraise\u001b[0m \u001b[0mexception_class\u001b[0m\u001b[1;33m(\u001b[0m\u001b[0mmessage\u001b[0m\u001b[1;33m,\u001b[0m \u001b[0mscreen\u001b[0m\u001b[1;33m,\u001b[0m \u001b[0mstacktrace\u001b[0m\u001b[1;33m,\u001b[0m \u001b[0malert_text\u001b[0m\u001b[1;33m)\u001b[0m\u001b[1;33m\u001b[0m\u001b[1;33m\u001b[0m\u001b[0m\n\u001b[1;32m--> 242\u001b[1;33m         \u001b[1;32mraise\u001b[0m \u001b[0mexception_class\u001b[0m\u001b[1;33m(\u001b[0m\u001b[0mmessage\u001b[0m\u001b[1;33m,\u001b[0m \u001b[0mscreen\u001b[0m\u001b[1;33m,\u001b[0m \u001b[0mstacktrace\u001b[0m\u001b[1;33m)\u001b[0m\u001b[1;33m\u001b[0m\u001b[1;33m\u001b[0m\u001b[0m\n\u001b[0m\u001b[0;32m    243\u001b[0m \u001b[1;33m\u001b[0m\u001b[0m\n\u001b[0;32m    244\u001b[0m     \u001b[1;32mdef\u001b[0m \u001b[0m_value_or_default\u001b[0m\u001b[1;33m(\u001b[0m\u001b[0mself\u001b[0m\u001b[1;33m,\u001b[0m \u001b[0mobj\u001b[0m\u001b[1;33m,\u001b[0m \u001b[0mkey\u001b[0m\u001b[1;33m,\u001b[0m \u001b[0mdefault\u001b[0m\u001b[1;33m)\u001b[0m\u001b[1;33m:\u001b[0m\u001b[1;33m\u001b[0m\u001b[1;33m\u001b[0m\u001b[0m\n",
      "\u001b[1;31mElementNotInteractableException\u001b[0m: Message: element not interactable: element has zero size\n  (Session info: chrome=86.0.4240.75)\n"
     ]
    }
   ],
   "source": [
    "for x in range(5):\n",
    "\n",
    "    html = browser.html\n",
    "    soup = BeautifulSoup(html, 'html.parser')\n",
    "\n",
    "    quotes = soup.find_all('div', class_='content_title')\n",
    "\n",
    "    for quote in quotes:\n",
    "        de = quote.find('a')\n",
    "        print(de)\n",
    "        \n",
    "\n",
    "    browser.links.find_by_partial_text('Next').click()"
   ]
  },
  {
   "cell_type": "code",
   "execution_count": 9,
   "metadata": {},
   "outputs": [],
   "source": [
    "browser.quit()"
   ]
  },
  {
   "cell_type": "code",
   "execution_count": 19,
   "metadata": {},
   "outputs": [
    {
     "output_type": "execute_result",
     "data": {
      "text/plain": [
       "<div class=\"article_teaser_body\">For hobbyists and makers, 3D printing expands creative possibilities; for specialized engineers, it's also key to next-generation spacecraft design.</div>"
      ]
     },
     "metadata": {},
     "execution_count": 19
    }
   ],
   "source": [
    "news_p = soup.find(\"div\", class_=\"article_teaser_body\")\n",
    "news_p"
   ]
  },
  {
   "cell_type": "code",
   "execution_count": 36,
   "metadata": {},
   "outputs": [],
   "source": [
    "t_url = 'https://www.jpl.nasa.gov/spaceimages/?search=&category=Mars'\n",
    "browser_p = Browser('chrome', **executable_path, headless=False)\n",
    "browser_p.visit(t_url)\n",
    "html_w = browser_p.html\n",
    "soupy = BeautifulSoup(html_w, 'html.parser')"
   ]
  },
  {
   "cell_type": "code",
   "execution_count": 37,
   "metadata": {},
   "outputs": [],
   "source": [
    "all_images = soupy.find_all('a', class_= \"fancybox\")"
   ]
  },
  {
   "cell_type": "code",
   "execution_count": 39,
   "metadata": {},
   "outputs": [
    {
     "output_type": "execute_result",
     "data": {
      "text/plain": [
       "'https://www.jpl.nasa.gov/spaceimages/?search=&category=Mars/spaceimages/images/largesize/PIA24088_hires.jpg'"
      ]
     },
     "metadata": {},
     "execution_count": 39
    }
   ],
   "source": [
    "empty_list = []\n",
    "for image in all_images:\n",
    "    jpg = image['data-fancybox-href']\n",
    "    empty_list.append(jpg)\n",
    "\n",
    "featured_image_url = t_url + jpg\n",
    "featured_image_url"
   ]
  },
  {
   "cell_type": "code",
   "execution_count": 46,
   "metadata": {},
   "outputs": [
    {
     "output_type": "execute_result",
     "data": {
      "text/plain": [
       "                      0                              1\n",
       "0  Equatorial Diameter:                       6,792 km\n",
       "1       Polar Diameter:                       6,752 km\n",
       "2                 Mass:  6.39 × 10^23 kg (0.11 Earths)\n",
       "3                Moons:            2 (Phobos & Deimos)\n",
       "4       Orbit Distance:       227,943,824 km (1.38 AU)\n",
       "5         Orbit Period:           687 days (1.9 years)\n",
       "6  Surface Temperature:                   -87 to -5 °C\n",
       "7         First Record:              2nd millennium BC\n",
       "8          Recorded By:           Egyptian astronomers"
      ],
      "text/html": "<div>\n<style scoped>\n    .dataframe tbody tr th:only-of-type {\n        vertical-align: middle;\n    }\n\n    .dataframe tbody tr th {\n        vertical-align: top;\n    }\n\n    .dataframe thead th {\n        text-align: right;\n    }\n</style>\n<table border=\"1\" class=\"dataframe\">\n  <thead>\n    <tr style=\"text-align: right;\">\n      <th></th>\n      <th>0</th>\n      <th>1</th>\n    </tr>\n  </thead>\n  <tbody>\n    <tr>\n      <th>0</th>\n      <td>Equatorial Diameter:</td>\n      <td>6,792 km</td>\n    </tr>\n    <tr>\n      <th>1</th>\n      <td>Polar Diameter:</td>\n      <td>6,752 km</td>\n    </tr>\n    <tr>\n      <th>2</th>\n      <td>Mass:</td>\n      <td>6.39 × 10^23 kg (0.11 Earths)</td>\n    </tr>\n    <tr>\n      <th>3</th>\n      <td>Moons:</td>\n      <td>2 (Phobos &amp; Deimos)</td>\n    </tr>\n    <tr>\n      <th>4</th>\n      <td>Orbit Distance:</td>\n      <td>227,943,824 km (1.38 AU)</td>\n    </tr>\n    <tr>\n      <th>5</th>\n      <td>Orbit Period:</td>\n      <td>687 days (1.9 years)</td>\n    </tr>\n    <tr>\n      <th>6</th>\n      <td>Surface Temperature:</td>\n      <td>-87 to -5 °C</td>\n    </tr>\n    <tr>\n      <th>7</th>\n      <td>First Record:</td>\n      <td>2nd millennium BC</td>\n    </tr>\n    <tr>\n      <th>8</th>\n      <td>Recorded By:</td>\n      <td>Egyptian astronomers</td>\n    </tr>\n  </tbody>\n</table>\n</div>"
     },
     "metadata": {},
     "execution_count": 46
    }
   ],
   "source": [
    "table_url = \"https://space-facts.com/mars/\"\n",
    "table = pd.read_html(table_url)\n",
    "table[0]"
   ]
  },
  {
   "cell_type": "code",
   "execution_count": 10,
   "metadata": {},
   "outputs": [],
   "source": [
    "hemi_url = 'https://astrogeology.usgs.gov/search/results?q=hemisphere+enhanced&k1=target&v1=Mars'\n",
    "browser.visit(hemi_url)\n",
    "html_hemi = browser.html\n",
    "hemi_soup = BeautifulSoup(html_hemi, 'html.parser')\n",
    "hemisphere_image_urls = []"
   ]
  },
  {
   "cell_type": "code",
   "execution_count": 13,
   "metadata": {},
   "outputs": [],
   "source": [
    "for i in range (4):\n",
    "    hemi_jpg = browser.find_by_tag('h3')\n",
    "    hemi_jpg[i].click()\n",
    "    html_hemi = browser.html\n",
    "    hemi_soup = BeautifulSoup(html_hemi, 'html.parser')\n",
    "    get_hemi_jpg = hemi_soup.find(\"img\", class_=\"wide-image\")[\"src\"]\n",
    "    hemi_title = hemi_soup.find(\"h2\",class_=\"title\").text\n",
    "    jpg_url = 'https://astrogeology.usgs.gov'+ get_hemi_jpg\n",
    "    dict= {\"title\":hemi_title,\"img_url\":jpg_url}\n",
    "    hemisphere_image_urls.append(dict)\n",
    "    browser.back()"
   ]
  },
  {
   "cell_type": "code",
   "execution_count": 17,
   "metadata": {},
   "outputs": [
    {
     "output_type": "stream",
     "name": "stdout",
     "text": [
      "[{'title': 'Cerberus Hemisphere Enhanced', 'img_url': 'https://astrogeology.usgs.gov/cache/images/f5e372a36edfa389625da6d0cc25d905_cerberus_enhanced.tif_full.jpg'}, {'title': 'Cerberus Hemisphere Enhanced', 'img_url': 'https://astrogeology.usgs.gov/cache/images/f5e372a36edfa389625da6d0cc25d905_cerberus_enhanced.tif_full.jpg'}, {'title': 'Schiaparelli Hemisphere Enhanced', 'img_url': 'https://astrogeology.usgs.gov/cache/images/3778f7b43bbbc89d6e3cfabb3613ba93_schiaparelli_enhanced.tif_full.jpg'}, {'title': 'Syrtis Major Hemisphere Enhanced', 'img_url': 'https://astrogeology.usgs.gov/cache/images/555e6403a6ddd7ba16ddb0e471cadcf7_syrtis_major_enhanced.tif_full.jpg'}, {'title': 'Valles Marineris Hemisphere Enhanced', 'img_url': 'https://astrogeology.usgs.gov/cache/images/b3c7c6c9138f57b4756be9b9c43e3a48_valles_marineris_enhanced.tif_full.jpg'}]\n"
     ]
    }
   ],
   "source": [
    "print(hemisphere_image_urls)"
   ]
  },
  {
   "cell_type": "code",
   "execution_count": null,
   "metadata": {},
   "outputs": [],
   "source": []
  }
 ],
 "metadata": {
  "kernelspec": {
   "name": "Python 3.6.10 64-bit ('PythonData': conda)",
   "display_name": "Python 3.6.10 64-bit ('PythonData': conda)",
   "metadata": {
    "interpreter": {
     "hash": "5c7c5cd26d172e058420c018ec108124a7346a0b9c47b82fbd21eb1333734bab"
    }
   }
  },
  "language_info": {
   "codemirror_mode": {
    "name": "ipython",
    "version": 3
   },
   "file_extension": ".py",
   "mimetype": "text/x-python",
   "name": "python",
   "nbconvert_exporter": "python",
   "pygments_lexer": "ipython3",
   "version": "3.6.10-final"
  },
  "varInspector": {
   "cols": {
    "lenName": 16,
    "lenType": 16,
    "lenVar": 40
   },
   "kernels_config": {
    "python": {
     "delete_cmd_postfix": "",
     "delete_cmd_prefix": "del ",
     "library": "var_list.py",
     "varRefreshCmd": "print(var_dic_list())"
    },
    "r": {
     "delete_cmd_postfix": ") ",
     "delete_cmd_prefix": "rm(",
     "library": "var_list.r",
     "varRefreshCmd": "cat(var_dic_list()) "
    }
   },
   "types_to_exclude": [
    "module",
    "function",
    "builtin_function_or_method",
    "instance",
    "_Feature"
   ],
   "window_display": false
  }
 },
 "nbformat": 4,
 "nbformat_minor": 2
}