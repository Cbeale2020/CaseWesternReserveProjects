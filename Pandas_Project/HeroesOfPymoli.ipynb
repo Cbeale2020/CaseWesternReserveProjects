{
 "metadata": {
  "language_info": {
   "codemirror_mode": {
    "name": "ipython",
    "version": 3
   },
   "file_extension": ".py",
   "mimetype": "text/x-python",
   "name": "python",
   "nbconvert_exporter": "python",
   "pygments_lexer": "ipython3",
   "version": "3.7.6-final"
  },
  "orig_nbformat": 2,
  "kernelspec": {
   "name": "python_defaultSpec_1598115742040",
   "display_name": "Python 3.7.6 64-bit ('base': conda)"
  }
 },
 "nbformat": 4,
 "nbformat_minor": 2,
 "cells": [
  {
   "cell_type": "code",
   "execution_count": 414,
   "metadata": {},
   "outputs": [],
   "source": [
    "#import modules needed to interact with the data\n",
    "import pandas as pd"
   ]
  },
  {
   "cell_type": "code",
   "execution_count": 415,
   "metadata": {},
   "outputs": [
    {
     "output_type": "execute_result",
     "data": {
      "text/plain": "   Purchase ID             SN  Age Gender  Item ID  \\\n0            0        Lisim78   20   Male      108   \n1            1    Lisovynya38   40   Male      143   \n2            2     Ithergue48   24   Male       92   \n3            3  Chamassasya86   24   Male      100   \n4            4      Iskosia90   23   Male      131   \n\n                                   Item Name  Price  \n0  Extraction, Quickblade Of Trembling Hands   3.53  \n1                          Frenzied Scimitar   1.56  \n2                               Final Critic   4.88  \n3                                Blindscythe   3.27  \n4                                       Fury   1.44  ",
      "text/html": "<div>\n<style scoped>\n    .dataframe tbody tr th:only-of-type {\n        vertical-align: middle;\n    }\n\n    .dataframe tbody tr th {\n        vertical-align: top;\n    }\n\n    .dataframe thead th {\n        text-align: right;\n    }\n</style>\n<table border=\"1\" class=\"dataframe\">\n  <thead>\n    <tr style=\"text-align: right;\">\n      <th></th>\n      <th>Purchase ID</th>\n      <th>SN</th>\n      <th>Age</th>\n      <th>Gender</th>\n      <th>Item ID</th>\n      <th>Item Name</th>\n      <th>Price</th>\n    </tr>\n  </thead>\n  <tbody>\n    <tr>\n      <th>0</th>\n      <td>0</td>\n      <td>Lisim78</td>\n      <td>20</td>\n      <td>Male</td>\n      <td>108</td>\n      <td>Extraction, Quickblade Of Trembling Hands</td>\n      <td>3.53</td>\n    </tr>\n    <tr>\n      <th>1</th>\n      <td>1</td>\n      <td>Lisovynya38</td>\n      <td>40</td>\n      <td>Male</td>\n      <td>143</td>\n      <td>Frenzied Scimitar</td>\n      <td>1.56</td>\n    </tr>\n    <tr>\n      <th>2</th>\n      <td>2</td>\n      <td>Ithergue48</td>\n      <td>24</td>\n      <td>Male</td>\n      <td>92</td>\n      <td>Final Critic</td>\n      <td>4.88</td>\n    </tr>\n    <tr>\n      <th>3</th>\n      <td>3</td>\n      <td>Chamassasya86</td>\n      <td>24</td>\n      <td>Male</td>\n      <td>100</td>\n      <td>Blindscythe</td>\n      <td>3.27</td>\n    </tr>\n    <tr>\n      <th>4</th>\n      <td>4</td>\n      <td>Iskosia90</td>\n      <td>23</td>\n      <td>Male</td>\n      <td>131</td>\n      <td>Fury</td>\n      <td>1.44</td>\n    </tr>\n  </tbody>\n</table>\n</div>"
     },
     "metadata": {},
     "execution_count": 415
    }
   ],
   "source": [
    "#Get the file with the data you will interact with\n",
    "orginfile = 'Resources/purchase_data.csv'\n",
    "data = pd.read_csv(orginfile)\n",
    "data.head()"
   ]
  },
  {
   "cell_type": "code",
   "execution_count": 416,
   "metadata": {},
   "outputs": [
    {
     "output_type": "execute_result",
     "data": {
      "text/plain": "   Total Players\n0            576",
      "text/html": "<div>\n<style scoped>\n    .dataframe tbody tr th:only-of-type {\n        vertical-align: middle;\n    }\n\n    .dataframe tbody tr th {\n        vertical-align: top;\n    }\n\n    .dataframe thead th {\n        text-align: right;\n    }\n</style>\n<table border=\"1\" class=\"dataframe\">\n  <thead>\n    <tr style=\"text-align: right;\">\n      <th></th>\n      <th>Total Players</th>\n    </tr>\n  </thead>\n  <tbody>\n    <tr>\n      <th>0</th>\n      <td>576</td>\n    </tr>\n  </tbody>\n</table>\n</div>"
     },
     "metadata": {},
     "execution_count": 416
    }
   ],
   "source": [
    "#count the Toltal number of players\n",
    "data1 = data.loc[:,['SN','Gender','Age']]\n",
    "data1 = data1.drop_duplicates()\n",
    "data1_ct = data1['SN'].count()\n",
    "TotalPlayer_dictls = [{'Total Players': data1_ct}]\n",
    "Player = pd.DataFrame(TotalPlayer_dictls)\n",
    "Player"
   ]
  },
  {
   "cell_type": "code",
   "execution_count": 417,
   "metadata": {},
   "outputs": [
    {
     "output_type": "execute_result",
     "data": {
      "text/plain": "   Number of Unique Items  Average Price  Number of Purchases  Total Revenues\n0                     179           3.05                  780         2379.77",
      "text/html": "<div>\n<style scoped>\n    .dataframe tbody tr th:only-of-type {\n        vertical-align: middle;\n    }\n\n    .dataframe tbody tr th {\n        vertical-align: top;\n    }\n\n    .dataframe thead th {\n        text-align: right;\n    }\n</style>\n<table border=\"1\" class=\"dataframe\">\n  <thead>\n    <tr style=\"text-align: right;\">\n      <th></th>\n      <th>Number of Unique Items</th>\n      <th>Average Price</th>\n      <th>Number of Purchases</th>\n      <th>Total Revenues</th>\n    </tr>\n  </thead>\n  <tbody>\n    <tr>\n      <th>0</th>\n      <td>179</td>\n      <td>3.05</td>\n      <td>780</td>\n      <td>2379.77</td>\n    </tr>\n  </tbody>\n</table>\n</div>"
     },
     "metadata": {},
     "execution_count": 417
    }
   ],
   "source": [
    "unique_items = len(data['Item ID'].unique())\n",
    "avg_price = data['Price'].mean()\n",
    "num_purchases = data['Price'].count()\n",
    "total_rev = avg_price*num_purchases\n",
    "df = pd.DataFrame({'Number of Unique Items': [unique_items],'Average Price': [avg_price], 'Number of Purchases': [num_purchases], 'Total Revenues': [total_rev]})\n",
    "df = df[['Number of Unique Items','Average Price','Number of Purchases','Total Revenues']]\n",
    "df =df.round(2)\n",
    "df.head()"
   ]
  },
  {
   "cell_type": "code",
   "execution_count": 418,
   "metadata": {},
   "outputs": [
    {
     "output_type": "execute_result",
     "data": {
      "text/plain": "                       Number of Players  Percentage of Players\nMale                                 484                  62.05\nFemale                                81                  10.38\nOther / Non-Disclosed                 11                   1.41",
      "text/html": "<div>\n<style scoped>\n    .dataframe tbody tr th:only-of-type {\n        vertical-align: middle;\n    }\n\n    .dataframe tbody tr th {\n        vertical-align: top;\n    }\n\n    .dataframe thead th {\n        text-align: right;\n    }\n</style>\n<table border=\"1\" class=\"dataframe\">\n  <thead>\n    <tr style=\"text-align: right;\">\n      <th></th>\n      <th>Number of Players</th>\n      <th>Percentage of Players</th>\n    </tr>\n  </thead>\n  <tbody>\n    <tr>\n      <th>Male</th>\n      <td>484</td>\n      <td>62.05</td>\n    </tr>\n    <tr>\n      <th>Female</th>\n      <td>81</td>\n      <td>10.38</td>\n    </tr>\n    <tr>\n      <th>Other / Non-Disclosed</th>\n      <td>11</td>\n      <td>1.41</td>\n    </tr>\n  </tbody>\n</table>\n</div>"
     },
     "metadata": {},
     "execution_count": 418
    }
   ],
   "source": [
    "#Gender Demographics\n",
    "genderct = data1['Gender'].value_counts()\n",
    "gender_dictls = genderct/TotalP*100\n",
    "genderct\n",
    "gender_dictls = gender_dictls.round(2) \n",
    "variable = pd.DataFrame({'Number of Players': genderct, 'Percentage of Players': gender_dictls})\n",
    "variable\n"
   ]
  },
  {
   "cell_type": "code",
   "execution_count": 419,
   "metadata": {},
   "outputs": [
    {
     "output_type": "execute_result",
     "data": {
      "text/plain": "                       Purchase Count  Average Purchase Price  \\\nGender                                                          \nFemale                            113                    3.20   \nMale                              652                    3.02   \nOther / Non-Disclosed              15                    3.35   \n\n                       Total Purchase Price  Normalized Total  \nGender                                                         \nFemale                               361.94              4.47  \nMale                                1967.64              4.07  \nOther / Non-Disclosed                 50.19              4.56  ",
      "text/html": "<div>\n<style scoped>\n    .dataframe tbody tr th:only-of-type {\n        vertical-align: middle;\n    }\n\n    .dataframe tbody tr th {\n        vertical-align: top;\n    }\n\n    .dataframe thead th {\n        text-align: right;\n    }\n</style>\n<table border=\"1\" class=\"dataframe\">\n  <thead>\n    <tr style=\"text-align: right;\">\n      <th></th>\n      <th>Purchase Count</th>\n      <th>Average Purchase Price</th>\n      <th>Total Purchase Price</th>\n      <th>Normalized Total</th>\n    </tr>\n    <tr>\n      <th>Gender</th>\n      <th></th>\n      <th></th>\n      <th></th>\n      <th></th>\n    </tr>\n  </thead>\n  <tbody>\n    <tr>\n      <th>Female</th>\n      <td>113</td>\n      <td>3.20</td>\n      <td>361.94</td>\n      <td>4.47</td>\n    </tr>\n    <tr>\n      <th>Male</th>\n      <td>652</td>\n      <td>3.02</td>\n      <td>1967.64</td>\n      <td>4.07</td>\n    </tr>\n    <tr>\n      <th>Other / Non-Disclosed</th>\n      <td>15</td>\n      <td>3.35</td>\n      <td>50.19</td>\n      <td>4.56</td>\n    </tr>\n  </tbody>\n</table>\n</div>"
     },
     "metadata": {},
     "execution_count": 419
    }
   ],
   "source": [
    "pc = data.groupby(['Gender']).count()['Price']\n",
    "app = data.groupby(['Gender']).mean()['Price']\n",
    "tpp =data.groupby(['Gender']).sum()['Price']\n",
    "nt = tpp/genderct\n",
    "\n",
    "summary_df = pd.DataFrame({'Purchase Count': pc,'Average Purchase Price': app, 'Total Purchase Price': tpp,'Normalized Total': nt})\n",
    "summary_df = summary_df[['Purchase Count','Average Purchase Price','Total Purchase Price','Normalized Total']]\n",
    "summary_df = summary_df.round(2)\n",
    "summary_df"
   ]
  },
  {
   "cell_type": "code",
   "execution_count": 420,
   "metadata": {},
   "outputs": [],
   "source": [
    "agemin = data['Age'].min()\n",
    "agemax = data['Age'].max()"
   ]
  },
  {
   "cell_type": "code",
   "execution_count": 428,
   "metadata": {},
   "outputs": [
    {
     "output_type": "execute_result",
     "data": {
      "text/plain": "       Age Catagory  Percentage\n20-29           291       50.52\n10-19           191       33.16\n30-39            63       10.94\n<10              24        4.17\n40-49             7        1.22",
      "text/html": "<div>\n<style scoped>\n    .dataframe tbody tr th:only-of-type {\n        vertical-align: middle;\n    }\n\n    .dataframe tbody tr th {\n        vertical-align: top;\n    }\n\n    .dataframe thead th {\n        text-align: right;\n    }\n</style>\n<table border=\"1\" class=\"dataframe\">\n  <thead>\n    <tr style=\"text-align: right;\">\n      <th></th>\n      <th>Age Catagory</th>\n      <th>Percentage</th>\n    </tr>\n  </thead>\n  <tbody>\n    <tr>\n      <th>20-29</th>\n      <td>291</td>\n      <td>50.52</td>\n    </tr>\n    <tr>\n      <th>10-19</th>\n      <td>191</td>\n      <td>33.16</td>\n    </tr>\n    <tr>\n      <th>30-39</th>\n      <td>63</td>\n      <td>10.94</td>\n    </tr>\n    <tr>\n      <th>&lt;10</th>\n      <td>24</td>\n      <td>4.17</td>\n    </tr>\n    <tr>\n      <th>40-49</th>\n      <td>7</td>\n      <td>1.22</td>\n    </tr>\n  </tbody>\n</table>\n</div>"
     },
     "metadata": {},
     "execution_count": 428
    }
   ],
   "source": [
    "bins = [0, 10, 20, 30, 40, 50]\n",
    "bin_names = ['<10','10-19','20-29','30-39','40-49']\n",
    "data2 = data1.loc[:,['Age','SN']]\n",
    "data2['Age Group'] = pd.cut(data2['Age'], bins, labels=bin_names)\n",
    "age_demo = data2['Age Group'].value_counts()\n",
    "percent_age = age_demo/data1_ct*100\n",
    "percent_age = percent_age.round(2)\n",
    "Age_df = pd.DataFrame({'Age Catagory':age_demo,'Percentage': percent_age })\n",
    "Age_df"
   ]
  },
  {
   "cell_type": "code",
   "execution_count": 422,
   "metadata": {},
   "outputs": [
    {
     "output_type": "execute_result",
     "data": {
      "text/plain": "             Purchase Count  Avg Item Price  Total Purchase\nSN                                                         \nLisosia93                 5        3.792000           18.96\nIdastidru52               4        3.862500           15.45\nChamjask73                3        4.610000           13.83\nIral74                    4        3.405000           13.62\nIskadarya95               3        4.366667           13.10",
      "text/html": "<div>\n<style scoped>\n    .dataframe tbody tr th:only-of-type {\n        vertical-align: middle;\n    }\n\n    .dataframe tbody tr th {\n        vertical-align: top;\n    }\n\n    .dataframe thead th {\n        text-align: right;\n    }\n</style>\n<table border=\"1\" class=\"dataframe\">\n  <thead>\n    <tr style=\"text-align: right;\">\n      <th></th>\n      <th>Purchase Count</th>\n      <th>Avg Item Price</th>\n      <th>Total Purchase</th>\n    </tr>\n    <tr>\n      <th>SN</th>\n      <th></th>\n      <th></th>\n      <th></th>\n    </tr>\n  </thead>\n  <tbody>\n    <tr>\n      <th>Lisosia93</th>\n      <td>5</td>\n      <td>3.792000</td>\n      <td>18.96</td>\n    </tr>\n    <tr>\n      <th>Idastidru52</th>\n      <td>4</td>\n      <td>3.862500</td>\n      <td>15.45</td>\n    </tr>\n    <tr>\n      <th>Chamjask73</th>\n      <td>3</td>\n      <td>4.610000</td>\n      <td>13.83</td>\n    </tr>\n    <tr>\n      <th>Iral74</th>\n      <td>4</td>\n      <td>3.405000</td>\n      <td>13.62</td>\n    </tr>\n    <tr>\n      <th>Iskadarya95</th>\n      <td>3</td>\n      <td>4.366667</td>\n      <td>13.10</td>\n    </tr>\n  </tbody>\n</table>\n</div>"
     },
     "metadata": {},
     "execution_count": 422
    }
   ],
   "source": [
    "item_popul = data.groupby(data['SN'])\n",
    "#item_id.head()\n",
    "unique_items = item_popul['SN'].unique().str[0]\n",
    "item_purchase_count = item_popul['Age'].count()\n",
    "item_price = item_popul['Price'].mean()\n",
    "item_purchase_total = item_popul['Price'].sum()\n",
    "\n",
    "item_summary =pd.DataFrame({'SN':unique_items,\n",
    "                'Avg Item Price':item_price,\n",
    "                'Purchase Count':item_purchase_count,\n",
    "                'Total Purchase':item_purchase_total})\n",
    "\n",
    "\n",
    "item_summary = item_summary.sort_values('Purchase Count', ascending=False)\n",
    "item_summarydf = item_summary[['Purchase Count','Avg Item Price','Total Purchase']]\n",
    "item_summarydf.round(2)\n",
    "sor_df = item_summarydf.sort_values(by=['Total Purchase'],ascending=False)\n",
    "sor_df.head(5)"
   ]
  },
  {
   "cell_type": "code",
   "execution_count": 423,
   "metadata": {},
   "outputs": [
    {
     "output_type": "execute_result",
     "data": {
      "text/plain": "                                            Item Name  Purchase Count  \\\nItem ID                                                                 \n92                                       Final Critic              13   \n178      Oathbreaker, Last Hope of the Breaking Storm              12   \n145                              Fiery Glass Crusader               9   \n132                                        Persuasion               9   \n108         Extraction, Quickblade Of Trembling Hands               9   \n\n         Item Price  Total Purchase  \nItem ID                              \n92             4.88           59.99  \n178            4.23           50.76  \n145            4.58           41.22  \n132            3.19           28.99  \n108            3.53           31.77  ",
      "text/html": "<div>\n<style scoped>\n    .dataframe tbody tr th:only-of-type {\n        vertical-align: middle;\n    }\n\n    .dataframe tbody tr th {\n        vertical-align: top;\n    }\n\n    .dataframe thead th {\n        text-align: right;\n    }\n</style>\n<table border=\"1\" class=\"dataframe\">\n  <thead>\n    <tr style=\"text-align: right;\">\n      <th></th>\n      <th>Item Name</th>\n      <th>Purchase Count</th>\n      <th>Item Price</th>\n      <th>Total Purchase</th>\n    </tr>\n    <tr>\n      <th>Item ID</th>\n      <th></th>\n      <th></th>\n      <th></th>\n      <th></th>\n    </tr>\n  </thead>\n  <tbody>\n    <tr>\n      <th>92</th>\n      <td>Final Critic</td>\n      <td>13</td>\n      <td>4.88</td>\n      <td>59.99</td>\n    </tr>\n    <tr>\n      <th>178</th>\n      <td>Oathbreaker, Last Hope of the Breaking Storm</td>\n      <td>12</td>\n      <td>4.23</td>\n      <td>50.76</td>\n    </tr>\n    <tr>\n      <th>145</th>\n      <td>Fiery Glass Crusader</td>\n      <td>9</td>\n      <td>4.58</td>\n      <td>41.22</td>\n    </tr>\n    <tr>\n      <th>132</th>\n      <td>Persuasion</td>\n      <td>9</td>\n      <td>3.19</td>\n      <td>28.99</td>\n    </tr>\n    <tr>\n      <th>108</th>\n      <td>Extraction, Quickblade Of Trembling Hands</td>\n      <td>9</td>\n      <td>3.53</td>\n      <td>31.77</td>\n    </tr>\n  </tbody>\n</table>\n</div>"
     },
     "metadata": {},
     "execution_count": 423
    }
   ],
   "source": [
    "item_popul = data.groupby(data['Item ID'])\n",
    "#item_id.head()\n",
    "unique_items = item_popul['Item ID'].unique().str[0]\n",
    "item_name = item_popul['Item Name'].unique().str[0]\n",
    "item_purchase_count = item_popul['Age'].count()\n",
    "item_price = item_popul['Price'].unique().str[0]\n",
    "item_purchase_total = item_popul['Price'].sum()\n",
    "\n",
    "item_summary =pd.DataFrame({'Item ID':unique_items,\n",
    "'Item Name':item_name,\n",
    "                'Item Price':item_price,\n",
    "                'Purchase Count':item_purchase_count,\n",
    "                'Total Purchase':item_purchase_total})\n",
    "\n",
    "\n",
    "item_summary = item_summary.sort_values('Purchase Count', ascending=False)\n",
    "item_summarydf = item_summary[['Item Name','Purchase Count','Item Price','Total Purchase']]\n",
    "item_summarydf.round(2)\n",
    "sor_df = item_summarydf.sort_values(by=['Purchase Count'],ascending=False)\n",
    "sor_df.head(5)"
   ]
  },
  {
   "cell_type": "code",
   "execution_count": 424,
   "metadata": {},
   "outputs": [
    {
     "output_type": "execute_result",
     "data": {
      "text/plain": "         Item ID                                     Item Name  Item Price  \\\nItem ID                                                                      \n92            92                                  Final Critic        4.88   \n178          178  Oathbreaker, Last Hope of the Breaking Storm        4.23   \n145          145                          Fiery Glass Crusader        4.58   \n132          132                                    Persuasion        3.19   \n108          108     Extraction, Quickblade Of Trembling Hands        3.53   \n\n         Purchase Count  Total Purchase  \nItem ID                                  \n92                   13           59.99  \n178                  12           50.76  \n145                   9           41.22  \n132                   9           28.99  \n108                   9           31.77  ",
      "text/html": "<div>\n<style scoped>\n    .dataframe tbody tr th:only-of-type {\n        vertical-align: middle;\n    }\n\n    .dataframe tbody tr th {\n        vertical-align: top;\n    }\n\n    .dataframe thead th {\n        text-align: right;\n    }\n</style>\n<table border=\"1\" class=\"dataframe\">\n  <thead>\n    <tr style=\"text-align: right;\">\n      <th></th>\n      <th>Item ID</th>\n      <th>Item Name</th>\n      <th>Item Price</th>\n      <th>Purchase Count</th>\n      <th>Total Purchase</th>\n    </tr>\n    <tr>\n      <th>Item ID</th>\n      <th></th>\n      <th></th>\n      <th></th>\n      <th></th>\n      <th></th>\n    </tr>\n  </thead>\n  <tbody>\n    <tr>\n      <th>92</th>\n      <td>92</td>\n      <td>Final Critic</td>\n      <td>4.88</td>\n      <td>13</td>\n      <td>59.99</td>\n    </tr>\n    <tr>\n      <th>178</th>\n      <td>178</td>\n      <td>Oathbreaker, Last Hope of the Breaking Storm</td>\n      <td>4.23</td>\n      <td>12</td>\n      <td>50.76</td>\n    </tr>\n    <tr>\n      <th>145</th>\n      <td>145</td>\n      <td>Fiery Glass Crusader</td>\n      <td>4.58</td>\n      <td>9</td>\n      <td>41.22</td>\n    </tr>\n    <tr>\n      <th>132</th>\n      <td>132</td>\n      <td>Persuasion</td>\n      <td>3.19</td>\n      <td>9</td>\n      <td>28.99</td>\n    </tr>\n    <tr>\n      <th>108</th>\n      <td>108</td>\n      <td>Extraction, Quickblade Of Trembling Hands</td>\n      <td>3.53</td>\n      <td>9</td>\n      <td>31.77</td>\n    </tr>\n  </tbody>\n</table>\n</div>"
     },
     "metadata": {},
     "execution_count": 424
    }
   ],
   "source": [
    "mostprofit=item_summary.sort_values('Purchase Count', ascending=False)\n",
    "mostprofit.head()"
   ]
  },
  {
   "cell_type": "code",
   "execution_count": 425,
   "metadata": {},
   "outputs": [
    {
     "output_type": "execute_result",
     "data": {
      "text/plain": "         Item ID                                     Item Name  Item Price  \\\nItem ID                                                                      \n92            92                                  Final Critic        4.88   \n178          178  Oathbreaker, Last Hope of the Breaking Storm        4.23   \n82            82                                       Nirvana        4.90   \n145          145                          Fiery Glass Crusader        4.58   \n103          103                                Singed Scalpel        4.35   \n\n         Purchase Count  Total Purchase  \nItem ID                                  \n92                   13           59.99  \n178                  12           50.76  \n82                    9           44.10  \n145                   9           41.22  \n103                   8           34.80  ",
      "text/html": "<div>\n<style scoped>\n    .dataframe tbody tr th:only-of-type {\n        vertical-align: middle;\n    }\n\n    .dataframe tbody tr th {\n        vertical-align: top;\n    }\n\n    .dataframe thead th {\n        text-align: right;\n    }\n</style>\n<table border=\"1\" class=\"dataframe\">\n  <thead>\n    <tr style=\"text-align: right;\">\n      <th></th>\n      <th>Item ID</th>\n      <th>Item Name</th>\n      <th>Item Price</th>\n      <th>Purchase Count</th>\n      <th>Total Purchase</th>\n    </tr>\n    <tr>\n      <th>Item ID</th>\n      <th></th>\n      <th></th>\n      <th></th>\n      <th></th>\n      <th></th>\n    </tr>\n  </thead>\n  <tbody>\n    <tr>\n      <th>92</th>\n      <td>92</td>\n      <td>Final Critic</td>\n      <td>4.88</td>\n      <td>13</td>\n      <td>59.99</td>\n    </tr>\n    <tr>\n      <th>178</th>\n      <td>178</td>\n      <td>Oathbreaker, Last Hope of the Breaking Storm</td>\n      <td>4.23</td>\n      <td>12</td>\n      <td>50.76</td>\n    </tr>\n    <tr>\n      <th>82</th>\n      <td>82</td>\n      <td>Nirvana</td>\n      <td>4.90</td>\n      <td>9</td>\n      <td>44.10</td>\n    </tr>\n    <tr>\n      <th>145</th>\n      <td>145</td>\n      <td>Fiery Glass Crusader</td>\n      <td>4.58</td>\n      <td>9</td>\n      <td>41.22</td>\n    </tr>\n    <tr>\n      <th>103</th>\n      <td>103</td>\n      <td>Singed Scalpel</td>\n      <td>4.35</td>\n      <td>8</td>\n      <td>34.80</td>\n    </tr>\n  </tbody>\n</table>\n</div>"
     },
     "metadata": {},
     "execution_count": 425
    }
   ],
   "source": [
    "mostprofit=item_summary.sort_values('Total Purchase', ascending=False)\n",
    "mostprofit.head()"
   ]
  },
  {
   "cell_type": "code",
   "execution_count": 426,
   "metadata": {},
   "outputs": [
    {
     "output_type": "execute_result",
     "data": {
      "text/plain": "     Price                          Item Name\n189   4.99                     Stormfury Mace\n110   4.94            Mercy, Katana of Dismay\n275   4.93                Stormfury Longsword\n290   4.93  Hellreaver, Heirloom of Inception\n284   4.91      Blazeguard, Reach of Eternity",
      "text/html": "<div>\n<style scoped>\n    .dataframe tbody tr th:only-of-type {\n        vertical-align: middle;\n    }\n\n    .dataframe tbody tr th {\n        vertical-align: top;\n    }\n\n    .dataframe thead th {\n        text-align: right;\n    }\n</style>\n<table border=\"1\" class=\"dataframe\">\n  <thead>\n    <tr style=\"text-align: right;\">\n      <th></th>\n      <th>Price</th>\n      <th>Item Name</th>\n    </tr>\n  </thead>\n  <tbody>\n    <tr>\n      <th>189</th>\n      <td>4.99</td>\n      <td>Stormfury Mace</td>\n    </tr>\n    <tr>\n      <th>110</th>\n      <td>4.94</td>\n      <td>Mercy, Katana of Dismay</td>\n    </tr>\n    <tr>\n      <th>275</th>\n      <td>4.93</td>\n      <td>Stormfury Longsword</td>\n    </tr>\n    <tr>\n      <th>290</th>\n      <td>4.93</td>\n      <td>Hellreaver, Heirloom of Inception</td>\n    </tr>\n    <tr>\n      <th>284</th>\n      <td>4.91</td>\n      <td>Blazeguard, Reach of Eternity</td>\n    </tr>\n  </tbody>\n</table>\n</div>"
     },
     "metadata": {},
     "execution_count": 426
    }
   ],
   "source": [
    "ty = data[['Price', 'Item Name']]\n",
    "ty = ty.drop_duplicates()\n",
    "hg = ty.sort_values('Price', ascending=False)\n",
    "hg.head(5)"
   ]
  },
  {
   "cell_type": "code",
   "execution_count": null,
   "metadata": {},
   "outputs": [],
   "source": []
  }
 ]
}